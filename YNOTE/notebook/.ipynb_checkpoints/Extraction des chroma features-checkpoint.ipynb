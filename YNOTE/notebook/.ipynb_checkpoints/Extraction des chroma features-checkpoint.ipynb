{
 "cells": [
  {
   "cell_type": "code",
   "execution_count": 36,
   "id": "feba907c-e646-4996-9707-b8a6e9b6f0ab",
   "metadata": {},
   "outputs": [],
   "source": [
    "import librosa\n",
    "import numpy as np\n",
    "import soundfile as sf"
   ]
  },
  {
   "cell_type": "code",
   "execution_count": 37,
   "id": "f439e887-58f6-4490-9e80-dcd3cf291e8f",
   "metadata": {},
   "outputs": [],
   "source": [
    "fichier_audio = r\"C:\\Users\\Theo\\PycharmProjects\\YNote\\Ynote_ia\\YNOTE\\sample\\Rick Astley - Never Gonna Give You Up (Official Music Video).mp3\""
   ]
  },
  {
   "cell_type": "code",
   "execution_count": 38,
   "id": "507c1cb6-dfe1-46e8-99ef-8486ca83bd74",
   "metadata": {},
   "outputs": [],
   "source": [
    "y, sr = librosa.load(fichier_audio)"
   ]
  },
  {
   "cell_type": "code",
   "execution_count": 39,
   "id": "1f44befe-aab3-45e6-97d4-5cebc823a2e7",
   "metadata": {},
   "outputs": [
    {
     "name": "stdout",
     "output_type": "stream",
     "text": [
      "Detected Key: G#\n"
     ]
    }
   ],
   "source": [
    "# Compute the Chroma Short-Time Fourier Transform (chroma_stft)\n",
    "chromagram = librosa.feature.chroma_stft(y=y, musique)\n",
    "\n",
    "# Calculate the mean chroma feature across time\n",
    "mean_chroma = np.mean(chromagram, axis=1)\n",
    "\n",
    "# Define the mapping of chroma features to keys\n",
    "chroma_to_key = ['C', 'C#', 'D', 'D#', 'E', 'F', 'F#', 'G', 'G#', 'A', 'A#', 'B']\n",
    "\n",
    "# Find the key by selecting the maximum chroma feature\n",
    "estimated_key_index = np.argmax(mean_chroma)\n",
    "estimated_key = chroma_to_key[estimated_key_index]\n",
    "\n",
    "# Print the detected key\n",
    "print(\"Detected Key:\", estimated_key)"
   ]
  },
  {
   "cell_type": "code",
   "execution_count": 40,
   "id": "4c98fe77-b1d9-41e1-9b2b-d53c80218574",
   "metadata": {},
   "outputs": [],
   "source": [
    "X, sample_rate = sf.read(fichier_audio, dtype='float32')\n",
    "if X.ndim > 1:\n",
    "    X = X[:,0]\n",
    "X = X.T\n",
    "\n",
    "    # short term fourier transform\n",
    "stft = np.abs(librosa.stft(X))\n",
    "chroma = np.mean(librosa.feature.chroma_stft(S=stft, sr=sample_rate).T,axis=0)\n"
   ]
  },
  {
   "cell_type": "code",
   "execution_count": 41,
   "id": "cc48ac4e-7be3-4b54-a0a0-f617c65ada7d",
   "metadata": {},
   "outputs": [
    {
     "name": "stdout",
     "output_type": "stream",
     "text": [
      "[0.66571605 0.6584391  0.6121815  0.7073071  0.6502739  0.68398017\n",
      " 0.652518   0.6998384  0.7633188  0.6585856  0.6632757  0.60151255]\n"
     ]
    }
   ],
   "source": [
    "print(chroma)"
   ]
  },
  {
   "cell_type": "code",
   "execution_count": null,
   "id": "a157c1db-442f-42ee-91db-b3c39a1403d8",
   "metadata": {},
   "outputs": [],
   "source": [
    "#Le code calcule d'abord le chromagramme d'un fichier audio en utilisant la transformée de Fourier à court terme (STFT) \n",
    "#pour extraire les chroma features, puis en calcule la moyenne des chroma features sur le temps pour estimer la tonalité (clé) de la musique.\n",
    "#Ensuite, il identifie la tonalité en déterminant la note correspondant à la valeur maximale parmi les chroma features moyennes et l'affiche.\n"
   ]
  }
 ],
 "metadata": {
  "kernelspec": {
   "display_name": "Python 3 (ipykernel)",
   "language": "python",
   "name": "python3"
  },
  "language_info": {
   "codemirror_mode": {
    "name": "ipython",
    "version": 3
   },
   "file_extension": ".py",
   "mimetype": "text/x-python",
   "name": "python",
   "nbconvert_exporter": "python",
   "pygments_lexer": "ipython3",
   "version": "3.11.7"
  }
 },
 "nbformat": 4,
 "nbformat_minor": 5
}
