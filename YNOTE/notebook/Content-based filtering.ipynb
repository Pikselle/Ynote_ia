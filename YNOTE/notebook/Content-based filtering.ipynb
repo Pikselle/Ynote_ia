{
 "cells": [
  {
   "cell_type": "markdown",
   "id": "8b11cdf8",
   "metadata": {},
   "source": [
    "# Faire un dataset avec tout plein de musiques différentes à partir de l'IA de classification"
   ]
  },
  {
   "cell_type": "markdown",
   "id": "fb9488fe",
   "metadata": {},
   "source": [
    "# Calculer la similarité des musiques"
   ]
  },
  {
   "cell_type": "markdown",
   "id": "79a6b376",
   "metadata": {},
   "source": [
    "# Faire un exemple de recommandation"
   ]
  },
  {
   "cell_type": "markdown",
   "id": "f1b545cf",
   "metadata": {},
   "source": [
    "Exemple : \n",
    "\n",
    "https://www.upwork.com/resources/what-is-content-based-filtering\n",
    "\n",
    "TUTO SIMPLE : \n",
    "\n",
    "https://yannawut.medium.com/basic-content-based-recommendation-system-with-python-code-be920b412067"
   ]
  }
 ],
 "metadata": {
  "kernelspec": {
   "display_name": "Python 3 (ipykernel)",
   "language": "python",
   "name": "python3"
  },
  "language_info": {
   "codemirror_mode": {
    "name": "ipython",
    "version": 3
   },
   "file_extension": ".py",
   "mimetype": "text/x-python",
   "name": "python",
   "nbconvert_exporter": "python",
   "pygments_lexer": "ipython3",
   "version": "3.9.12"
  }
 },
 "nbformat": 4,
 "nbformat_minor": 5
}
