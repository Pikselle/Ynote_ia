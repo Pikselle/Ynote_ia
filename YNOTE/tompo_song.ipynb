{
 "cells": [
  {
   "cell_type": "code",
   "execution_count": 24,
   "id": "initial_id",
   "metadata": {
    "collapsed": true,
    "ExecuteTime": {
     "end_time": "2025-01-15T08:56:33.214140Z",
     "start_time": "2025-01-15T08:56:33.207764Z"
    }
   },
   "outputs": [],
   "source": [
    "# Importation de la bibliothèque Librosa\n",
    "import librosa"
   ]
  },
  {
   "cell_type": "code",
   "execution_count": 25,
   "outputs": [],
   "source": [
    "import numpy\n",
    "\n",
    "\n",
    "# Cette fonction permet d'extraire le tempo d'un fichier audio\n",
    "def extract_tempo(audio_path):\n",
    "    try:\n",
    "        # Charger l'audio\n",
    "        y, sr = librosa.load(audio_path, sr=None)\n",
    "        #print(f\"y : {type(y)}, longueur : {len(y)}\")\n",
    "        #print(f\"sr : {sr}\")\n",
    "        \n",
    "        # Analyser le tempo\n",
    "        tempo, _ = librosa.beat.beat_track(y=y, sr=sr)\n",
    "        #print(f\"tempo brut : {tempo}\")\n",
    "        \n",
    "        # Si le tempo est un tableau, prendre le premier élément\n",
    "        if isinstance(tempo, (list, numpy.ndarray)):\n",
    "            tempo = tempo[0]\n",
    "        \n",
    "        # Arrondir et convertir en entier\n",
    "        bpm = int(round(tempo))\n",
    "        print(f\"bpm : {bpm}\")\n",
    "        \n",
    "        return bpm\n",
    "    except Exception as e:\n",
    "        print(f\"Erreur lors de l'analyse de l'audio : {e}\")\n",
    "        return None\n"
   ],
   "metadata": {
    "collapsed": false,
    "ExecuteTime": {
     "end_time": "2025-01-15T08:56:33.773239Z",
     "start_time": "2025-01-15T08:56:33.765072Z"
    }
   },
   "id": "c620929b510f1365"
  },
  {
   "cell_type": "code",
   "execution_count": 26,
   "outputs": [
    {
     "name": "stdout",
     "output_type": "stream",
     "text": [
      "bpm : 89\n",
      "Le tempo estimé est : 89 BPM\n"
     ]
    }
   ],
   "source": [
    "# Remplacez par le chemin de votre fichier audio\n",
    "audio_file = r\"/Users/chancybayedi-mayombo/PycharmProjects/Ynote_ia/YNOTE/Data/genres_original/pop/pop.00000.wav\"\n",
    "\n",
    "bpm = extract_tempo(audio_file)\n",
    "\n",
    "if bpm:\n",
    "    print(f\"Le tempo estimé est : {bpm} BPM\")\n",
    "else:\n",
    "    print(\"Impossible d'estimer le tempo.\")"
   ],
   "metadata": {
    "collapsed": false,
    "ExecuteTime": {
     "end_time": "2025-01-15T08:56:34.629511Z",
     "start_time": "2025-01-15T08:56:34.534670Z"
    }
   },
   "id": "bdc63cf46e4891d5"
  },
  {
   "cell_type": "code",
   "execution_count": 11,
   "outputs": [],
   "source": [],
   "metadata": {
    "collapsed": false,
    "ExecuteTime": {
     "end_time": "2025-01-15T08:29:55.908920Z",
     "start_time": "2025-01-15T08:29:55.887627Z"
    }
   },
   "id": "412300a92480aecc"
  },
  {
   "cell_type": "code",
   "execution_count": null,
   "outputs": [],
   "source": [],
   "metadata": {
    "collapsed": false
   },
   "id": "16b16bdc4368d87c"
  }
 ],
 "metadata": {
  "kernelspec": {
   "display_name": "Python 3",
   "language": "python",
   "name": "python3"
  },
  "language_info": {
   "codemirror_mode": {
    "name": "ipython",
    "version": 2
   },
   "file_extension": ".py",
   "mimetype": "text/x-python",
   "name": "python",
   "nbconvert_exporter": "python",
   "pygments_lexer": "ipython2",
   "version": "2.7.6"
  }
 },
 "nbformat": 4,
 "nbformat_minor": 5
}
