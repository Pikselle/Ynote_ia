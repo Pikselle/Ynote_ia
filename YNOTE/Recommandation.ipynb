{
 "cells": [
  {
   "cell_type": "code",
   "execution_count": 51,
   "id": "73549206",
   "metadata": {
    "scrolled": false
   },
   "outputs": [
    {
     "name": "stdout",
     "output_type": "stream",
     "text": [
      "./Data/genres_original/metal\\metal.00000.wav\n",
      "Genre: ./data/genres_original/metal\n",
      "Recommended filepaths for ./Data/genres_original/metal\\metal.00000.wav : ['./Data/genres_original/metal\\\\metal.00033.wav'\n",
      " './Data/genres_original/reggae\\\\reggae.00081.wav'\n",
      " './Data/genres_original/reggae\\\\reggae.00082.wav']\n"
     ]
    }
   ],
   "source": [
    "import pandas as pd\n",
    "import numpy as np\n",
    "from sklearn.metrics.pairwise import cosine_similarity\n",
    "from scipy import stats\n",
    "\n",
    "# Charger les données depuis le fichier CSV\n",
    "data = pd.read_csv('df_musiques_recommandations_TOUT.csv', dtype={0: str})\n",
    "data.columns = ['filepath', 'f1', 'f2', 'f3', 'f4', 'f5', 'f6', 'f7', 'f8', 'f9', 'f10', 'genre']\n",
    "\n",
    "def extract_features(audio_file):\n",
    "    #print(data.head())\n",
    "    print(audio_file)\n",
    "    genre = audio_file.split('\\\\')[-2].capitalize()\n",
    "    print(\"Genre:\", genre)\n",
    "    selected_rows = data[data['filepath'] == audio_file]\n",
    "    #print(\"Selected rows:\", selected_rows)\n",
    "    #selected_rows = data\n",
    "    if selected_rows.empty:\n",
    "        print(\"No rows found for genre:\", genre)\n",
    "        return None\n",
    "    features = selected_rows.iloc[:, 1:-1].values[0].reshape(1, -1)  # Exclude filepath and genre columns\n",
    "    #print(\"Features:\", features)\n",
    "    return features\n",
    "\n",
    "# Fonction pour recommander des morceaux similaires\n",
    "def recommend_similar_songs(audio_file, num_recommendations=5):\n",
    "    # Extraire les caractéristiques du morceau donné\n",
    "    query_features = extract_features(audio_file)\n",
    "    \n",
    "    if query_features is None:\n",
    "        print(\"No features found for\", audio_file)\n",
    "        return None\n",
    "    \n",
    "    # Calculer les similarités avec tous les autres morceaux\n",
    "    similarities = cosine_similarity(query_features, data.iloc[:, 1:-1])  # Exclude filepath and genre columns\n",
    "    \n",
    "    # Obtenir les indices des morceaux les plus similaires\n",
    "    similar_indices = similarities.argsort()[0][::-1][1:num_recommendations+1]\n",
    "    \n",
    "    # Récupérer les filepath des morceaux recommandés\n",
    "    recommended_filepaths = data.iloc[similar_indices]['filepath'].values\n",
    "    \n",
    "    return recommended_filepaths\n",
    "\n",
    "# Exemple d'utilisation\n",
    "audio_file = './Data/genres_original/metal\\metal.00000.wav'\n",
    "recommended_filepaths = recommend_similar_songs(audio_file, 3)\n",
    "print(\"Recommended filepaths for\", audio_file, \":\", recommended_filepaths)\n"
   ]
  },
  {
   "cell_type": "code",
   "execution_count": 77,
   "id": "ebd5683f",
   "metadata": {
    "scrolled": false
   },
   "outputs": [
    {
     "name": "stdout",
     "output_type": "stream",
     "text": [
      "./Data/genres_original/metal\\metal.00000.wav\n",
      "Genre: ./data/genres_original/metal\n",
      "./Data/genres_original/metal\\metal.00001.wav\n",
      "Genre: ./data/genres_original/metal\n",
      "./Data/genres_original/metal\\metal.00002.wav\n",
      "Genre: ./data/genres_original/metal\n",
      "./Data/genres_original/metal\\metal.00003.wav\n",
      "Genre: ./data/genres_original/metal\n",
      "./Data/genres_original/metal\\metal.00004.wav\n",
      "Genre: ./data/genres_original/metal\n",
      "./Data/genres_original/metal\\metal.00005.wav\n",
      "Genre: ./data/genres_original/metal\n",
      "./Data/genres_original/metal\\metal.00006.wav\n",
      "Genre: ./data/genres_original/metal\n",
      "./Data/genres_original/metal\\metal.00007.wav\n",
      "Genre: ./data/genres_original/metal\n",
      "./Data/genres_original/metal\\metal.00008.wav\n",
      "Genre: ./data/genres_original/metal\n",
      "./Data/genres_original/metal\\metal.00009.wav\n",
      "Genre: ./data/genres_original/metal\n",
      "./Data/genres_original/metal\\metal.00010.wav\n",
      "Genre: ./data/genres_original/metal\n",
      "Recommended filepaths for fav musics : ['./Data/genres_original/rock\\\\rock.00052.wav', './Data/genres_original/rock\\\\rock.00006.wav', './Data/genres_original/reggae\\\\reggae.00000.wav', './Data/genres_original/rock\\\\rock.00091.wav', './Data/genres_original/hiphop\\\\hiphop.00057.wav', './Data/genres_original/pop\\\\pop.00029.wav', './Data/genres_original/hiphop\\\\hiphop.00026.wav'] \\n\n"
     ]
    }
   ],
   "source": [
    "fav_musics = ['./Data/genres_original/metal\\metal.00000.wav', \n",
    "              './Data/genres_original/metal\\metal.00001.wav', \n",
    "              './Data/genres_original/metal\\metal.00002.wav', \n",
    "              './Data/genres_original/metal\\metal.00003.wav', \n",
    "              './Data/genres_original/metal\\metal.00004.wav', \n",
    "              './Data/genres_original/metal\\metal.00005.wav', \n",
    "              './Data/genres_original/metal\\metal.00006.wav', \n",
    "              './Data/genres_original/metal\\metal.00007.wav', \n",
    "              './Data/genres_original/metal\\metal.00008.wav', \n",
    "              './Data/genres_original/metal\\metal.00009.wav', \n",
    "              './Data/genres_original/metal\\metal.00010.wav',]\n",
    "\n",
    "test = []\n",
    "cross_recommended_musics = []\n",
    "\n",
    "for music in fav_musics : \n",
    "    recommended_filepaths = recommend_similar_songs(music, 10)\n",
    "    #print(\"Recommended filepaths for\", music, \":\", recommended_filepaths)\n",
    "    for elem in recommended_filepaths :\n",
    "        #print(elem)\n",
    "        if elem in test :\n",
    "            cross_recommended_musics.append(elem)\n",
    "        else :\n",
    "            test.append(elem)\n",
    "print(\"Recommended filepaths for fav musics\", \":\", cross_recommended_musics)\n",
    "#print(test)\n",
    "    "
   ]
  },
  {
   "cell_type": "markdown",
   "id": "b9e2efdd",
   "metadata": {},
   "source": [
    "Pour cet après-midi : \n",
    "\n",
    "    [Priorité]\n",
    "    Préparer les points importants à présenter pour expliquer ce qui a été fait dans l'équipe data/ia\n",
    "    Ce doit être compréhensible pour quelqu'un qui ne fait pas d'informatique\n",
    "    \n",
    "    [En plus]\n",
    "    Faire un algorithme pour utiliser plusieurs IA et afficher les résultats de chacune d'entre elles\n",
    "    Par exemple la musique ./Data/genres_original/metal\\metal.00000.wav sera prédite metal par l'IA 1\n",
    "    et classique par l'IA 2"
   ]
  },
  {
   "cell_type": "code",
   "execution_count": null,
   "id": "29341cae",
   "metadata": {},
   "outputs": [],
   "source": []
  }
 ],
 "metadata": {
  "kernelspec": {
   "display_name": "Python 3 (ipykernel)",
   "language": "python",
   "name": "python3"
  },
  "language_info": {
   "codemirror_mode": {
    "name": "ipython",
    "version": 3
   },
   "file_extension": ".py",
   "mimetype": "text/x-python",
   "name": "python",
   "nbconvert_exporter": "python",
   "pygments_lexer": "ipython3",
   "version": "3.9.12"
  }
 },
 "nbformat": 4,
 "nbformat_minor": 5
}
